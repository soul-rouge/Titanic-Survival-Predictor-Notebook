{
 "cells": [
  {
   "cell_type": "code",
   "execution_count": 1,
   "id": "93e0aa73",
   "metadata": {
    "_cell_guid": "b1076dfc-b9ad-4769-8c92-a6c4dae69d19",
    "_uuid": "8f2839f25d086af736a60e9eeb907d3b93b6e0e5",
    "execution": {
     "iopub.execute_input": "2024-08-03T15:37:41.846848Z",
     "iopub.status.busy": "2024-08-03T15:37:41.846448Z",
     "iopub.status.idle": "2024-08-03T15:37:42.769314Z",
     "shell.execute_reply": "2024-08-03T15:37:42.768135Z"
    },
    "papermill": {
     "duration": 0.934483,
     "end_time": "2024-08-03T15:37:42.771992",
     "exception": false,
     "start_time": "2024-08-03T15:37:41.837509",
     "status": "completed"
    },
    "tags": []
   },
   "outputs": [
    {
     "name": "stdout",
     "output_type": "stream",
     "text": [
      "/kaggle/input/titanic/train.csv\n",
      "/kaggle/input/titanic/test.csv\n",
      "/kaggle/input/titanic/gender_submission.csv\n"
     ]
    }
   ],
   "source": [
    "# This Python 3 environment comes with many helpful analytics libraries installed\n",
    "# It is defined by the kaggle/python Docker image: https://github.com/kaggle/docker-python\n",
    "# For example, here's several helpful packages to load\n",
    "\n",
    "import numpy as np # linear algebra\n",
    "import pandas as pd # data processing, CSV file I/O (e.g. pd.read_csv)\n",
    "\n",
    "# Input data files are available in the read-only \"../input/\" directory\n",
    "# For example, running this (by clicking run or pressing Shift+Enter) will list all files under the input directory\n",
    "\n",
    "import os\n",
    "for dirname, _, filenames in os.walk('/kaggle/input'):\n",
    "    for filename in filenames:\n",
    "        print(os.path.join(dirname, filename))\n",
    "\n",
    "# You can write up to 20GB to the current directory (/kaggle/working/) that gets preserved as output when you create a version using \"Save & Run All\" \n",
    "# You can also write temporary files to /kaggle/temp/, but they won't be saved outside of the current session"
   ]
  },
  {
   "cell_type": "code",
   "execution_count": 2,
   "id": "7c675f54",
   "metadata": {
    "execution": {
     "iopub.execute_input": "2024-08-03T15:37:42.787485Z",
     "iopub.status.busy": "2024-08-03T15:37:42.786952Z",
     "iopub.status.idle": "2024-08-03T15:37:44.652241Z",
     "shell.execute_reply": "2024-08-03T15:37:44.651134Z"
    },
    "papermill": {
     "duration": 1.876013,
     "end_time": "2024-08-03T15:37:44.654884",
     "exception": false,
     "start_time": "2024-08-03T15:37:42.778871",
     "status": "completed"
    },
    "tags": []
   },
   "outputs": [],
   "source": [
    "import pandas as pd\n",
    "import numpy as np\n",
    "import matplotlib.pyplot as plt\n",
    "import seaborn as sns\n",
    "%matplotlib inline\n",
    "import warnings\n",
    "warnings.filterwarnings(\"ignore\")\n",
    "from sklearn.preprocessing import OneHotEncoder, StandardScaler\n",
    "from sklearn.metrics import accuracy_score, precision_score,roc_auc_score,confusion_matrix, classification_report\n",
    "from sklearn.model_selection import KFold, cross_val_score, train_test_split\n",
    "import optuna"
   ]
  },
  {
   "cell_type": "markdown",
   "id": "4491662a",
   "metadata": {
    "papermill": {
     "duration": 0.006565,
     "end_time": "2024-08-03T15:37:44.668249",
     "exception": false,
     "start_time": "2024-08-03T15:37:44.661684",
     "status": "completed"
    },
    "tags": []
   },
   "source": [
    "**EDA**"
   ]
  },
  {
   "cell_type": "code",
   "execution_count": 3,
   "id": "86d50e2b",
   "metadata": {
    "execution": {
     "iopub.execute_input": "2024-08-03T15:37:44.684302Z",
     "iopub.status.busy": "2024-08-03T15:37:44.683152Z",
     "iopub.status.idle": "2024-08-03T15:37:44.717952Z",
     "shell.execute_reply": "2024-08-03T15:37:44.716755Z"
    },
    "papermill": {
     "duration": 0.045811,
     "end_time": "2024-08-03T15:37:44.720684",
     "exception": false,
     "start_time": "2024-08-03T15:37:44.674873",
     "status": "completed"
    },
    "tags": []
   },
   "outputs": [],
   "source": [
    "training_data = pd.read_csv('/kaggle/input/titanic/train.csv')\n",
    "test_data = pd.read_csv('/kaggle/input/titanic/test.csv')\n",
    "output_data=pd.read_csv('/kaggle/input/titanic/gender_submission.csv')"
   ]
  },
  {
   "cell_type": "code",
   "execution_count": 4,
   "id": "ed52b8f9",
   "metadata": {
    "execution": {
     "iopub.execute_input": "2024-08-03T15:37:44.736811Z",
     "iopub.status.busy": "2024-08-03T15:37:44.736004Z",
     "iopub.status.idle": "2024-08-03T15:37:45.010059Z",
     "shell.execute_reply": "2024-08-03T15:37:45.009017Z"
    },
    "papermill": {
     "duration": 0.284771,
     "end_time": "2024-08-03T15:37:45.012371",
     "exception": false,
     "start_time": "2024-08-03T15:37:44.727600",
     "status": "completed"
    },
    "tags": []
   },
   "outputs": [
    {
     "data": {
      "text/plain": [
       "<Axes: xlabel='Survived', ylabel='count'>"
      ]
     },
     "execution_count": 4,
     "metadata": {},
     "output_type": "execute_result"
    },
    {
     "data": {
      "image/png": "[encoded data removed]",
      "text/plain": [
       "<Figure size 640x480 with 1 Axes>"
      ]
     },
     "metadata": {},
     "output_type": "display_data"
    }
   ],
   "source": [
    "sns.set_style('whitegrid')\n",
    "sns.countplot(x='Survived',data=training_data)"
   ]
  },
  {
   "cell_type": "code",
   "execution_count": 5,
   "id": "f3ac74dc",
   "metadata": {
    "execution": {
     "iopub.execute_input": "2024-08-03T15:37:45.029037Z",
     "iopub.status.busy": "2024-08-03T15:37:45.028038Z",
     "iopub.status.idle": "2024-08-03T15:37:45.373578Z",
     "shell.execute_reply": "2024-08-03T15:37:45.372531Z"
    },
    "papermill": {
     "duration": 0.356353,
     "end_time": "2024-08-03T15:37:45.375832",
     "exception": false,
     "start_time": "2024-08-03T15:37:45.019479",
     "status": "completed"
    },
    "tags": []
   },
   "outputs": [
    {
     "data": {
      "text/plain": [
       "<seaborn.axisgrid.FacetGrid at 0x78681fbb6560>"
      ]
     },
     "execution_count": 5,
     "metadata": {},
     "output_type": "execute_result"
    },
    {
     "data": {
      "image/png": "[encoded data removed]",
      "text/plain": [
       "<Figure size 500x500 with 1 Axes>"
      ]
     },
     "metadata": {},
     "output_type": "display_data"
    }
   ],
   "source": [
    "sns.displot(data=training_data,x='Embarked')"
   ]
  },
  {
   "cell_type": "code",
   "execution_count": 6,
   "id": "1427a8ad",
   "metadata": {
    "execution": {
     "iopub.execute_input": "2024-08-03T15:37:45.392943Z",
     "iopub.status.busy": "2024-08-03T15:37:45.392123Z",
     "iopub.status.idle": "2024-08-03T15:37:45.398600Z",
     "shell.execute_reply": "2024-08-03T15:37:45.397450Z"
    },
    "papermill": {
     "duration": 0.017493,
     "end_time": "2024-08-03T15:37:45.400807",
     "exception": false,
     "start_time": "2024-08-03T15:37:45.383314",
     "status": "completed"
    },
    "tags": []
   },
   "outputs": [],
   "source": [
    "embarked_mode = training_data['Embarked'].mode()[0]\n",
    "training_data['Embarked'].fillna(embarked_mode, inplace=True)"
   ]
  },
  {
   "cell_type": "code",
   "execution_count": 7,
   "id": "2967eb33",
   "metadata": {
    "execution": {
     "iopub.execute_input": "2024-08-03T15:37:45.419152Z",
     "iopub.status.busy": "2024-08-03T15:37:45.418122Z",
     "iopub.status.idle": "2024-08-03T15:37:45.634447Z",
     "shell.execute_reply": "2024-08-03T15:37:45.633326Z"
    },
    "papermill": {
     "duration": 0.228427,
     "end_time": "2024-08-03T15:37:45.636636",
     "exception": false,
     "start_time": "2024-08-03T15:37:45.408209",
     "status": "completed"
    },
    "tags": []
   },
   "outputs": [
    {
     "data": {
      "text/plain": [
       "<Axes: xlabel='Survived', ylabel='count'>"
      ]
     },
     "execution_count": 7,
     "metadata": {},
     "output_type": "execute_result"
    },
    {
     "data": {
      "image/png": "[encoded data removed]",
      "text/plain": [
       "<Figure size 640x480 with 1 Axes>"
      ]
     },
     "metadata": {},
     "output_type": "display_data"
    }
   ],
   "source": [
    "sns.countplot(x='Survived',data=training_data,hue='Sex',palette='RdBu_r')"
   ]
  },
  {
   "cell_type": "code",
   "execution_count": 8,
   "id": "0a3359c8",
   "metadata": {
    "execution": {
     "iopub.execute_input": "2024-08-03T15:37:45.654310Z",
     "iopub.status.busy": "2024-08-03T15:37:45.653553Z",
     "iopub.status.idle": "2024-08-03T15:37:45.946885Z",
     "shell.execute_reply": "2024-08-03T15:37:45.945689Z"
    },
    "papermill": {
     "duration": 0.304596,
     "end_time": "2024-08-03T15:37:45.949093",
     "exception": false,
     "start_time": "2024-08-03T15:37:45.644497",
     "status": "completed"
    },
    "tags": []
   },
   "outputs": [
    {
     "data": {
      "text/plain": [
       "<Axes: xlabel='Survived', ylabel='count'>"
      ]
     },
     "execution_count": 8,
     "metadata": {},
     "output_type": "execute_result"
    },
    {
     "data": {
      "image/png": "[encoded data removed]",
      "text/plain": [
       "<Figure size 640x480 with 1 Axes>"
      ]
     },
     "metadata": {},
     "output_type": "display_data"
    }
   ],
   "source": [
    "sns.countplot(x='Survived',data=training_data,hue='Pclass')"
   ]
  },
  {
   "cell_type": "code",
   "execution_count": 9,
   "id": "2291be77",
   "metadata": {
    "execution": {
     "iopub.execute_input": "2024-08-03T15:37:45.968538Z",
     "iopub.status.busy": "2024-08-03T15:37:45.967681Z",
     "iopub.status.idle": "2024-08-03T15:37:46.583958Z",
     "shell.execute_reply": "2024-08-03T15:37:46.582569Z"
    },
    "papermill": {
     "duration": 0.628496,
     "end_time": "2024-08-03T15:37:46.586445",
     "exception": false,
     "start_time": "2024-08-03T15:37:45.957949",
     "status": "completed"
    },
    "tags": []
   },
   "outputs": [
    {
     "data": {
      "text/plain": [
       "<seaborn.axisgrid.FacetGrid at 0x78681d9a6c80>"
      ]
     },
     "execution_count": 9,
     "metadata": {},
     "output_type": "execute_result"
    },
    {
     "data": {
      "image/png": "[encoded data removed]",
      "text/plain": [
       "<Figure size 500x500 with 1 Axes>"
      ]
     },
     "metadata": {},
     "output_type": "display_data"
    }
   ],
   "source": [
    "sns.displot(training_data['Age'],kde=False,bins=30)"
   ]
  },
  {
   "cell_type": "code",
   "execution_count": 10,
   "id": "22f916f2",
   "metadata": {
    "execution": {
     "iopub.execute_input": "2024-08-03T15:37:46.606251Z",
     "iopub.status.busy": "2024-08-03T15:37:46.605434Z",
     "iopub.status.idle": "2024-08-03T15:37:47.098411Z",
     "shell.execute_reply": "2024-08-03T15:37:47.097227Z"
    },
    "papermill": {
     "duration": 0.505574,
     "end_time": "2024-08-03T15:37:47.100862",
     "exception": false,
     "start_time": "2024-08-03T15:37:46.595288",
     "status": "completed"
    },
    "tags": []
   },
   "outputs": [
    {
     "data": {
      "image/png": "[encoded data removed]",
      "text/plain": [
       "<Figure size 1000x600 with 1 Axes>"
      ]
     },
     "metadata": {},
     "output_type": "display_data"
    }
   ],
   "source": [
    "survived_fares = training_data[training_data['Survived'] == 1]['Fare']\n",
    "not_survived_fares = training_data[training_data['Survived'] == 0]['Fare']\n",
    "\n",
    "plt.figure(figsize=(10, 6))\n",
    "plt.hist([survived_fares, not_survived_fares], bins=40, color=['green', 'red'], label=['Survived', 'Not Survived'])\n",
    "plt.xlabel('Fare')\n",
    "plt.ylabel('Frequency')\n",
    "plt.title('Distribution of Fare by Survival')\n",
    "plt.legend()\n",
    "plt.show()"
   ]
  },
  {
   "cell_type": "markdown",
   "id": "a2f62e57",
   "metadata": {
    "papermill": {
     "duration": 0.009418,
     "end_time": "2024-08-03T15:37:47.119358",
     "exception": false,
     "start_time": "2024-08-03T15:37:47.109940",
     "status": "completed"
    },
    "tags": []
   },
   "source": [
    "**DATA PREPROCESSING**"
   ]
  },
  {
   "cell_type": "code",
   "execution_count": 11,
   "id": "980fbc5a",
   "metadata": {
    "execution": {
     "iopub.execute_input": "2024-08-03T15:37:47.139329Z",
     "iopub.status.busy": "2024-08-03T15:37:47.138900Z",
     "iopub.status.idle": "2024-08-03T15:37:47.643416Z",
     "shell.execute_reply": "2024-08-03T15:37:47.642150Z"
    },
    "papermill": {
     "duration": 0.517421,
     "end_time": "2024-08-03T15:37:47.646018",
     "exception": false,
     "start_time": "2024-08-03T15:37:47.128597",
     "status": "completed"
    },
    "tags": []
   },
   "outputs": [
    {
     "data": {
      "text/plain": [
       "<Axes: >"
      ]
     },
     "execution_count": 11,
     "metadata": {},
     "output_type": "execute_result"
    },
    {
     "data": {
      "image/png": "[encoded data removed]",
      "text/plain": [
       "<Figure size 640x480 with 2 Axes>"
      ]
     },
     "metadata": {},
     "output_type": "display_data"
    }
   ],
   "source": [
    "sns.heatmap(training_data.isnull(),yticklabels=False,cmap=('viridis'))"
   ]
  },
  {
   "cell_type": "code",
   "execution_count": 12,
   "id": "74449d2a",
   "metadata": {
    "execution": {
     "iopub.execute_input": "2024-08-03T15:37:47.667031Z",
     "iopub.status.busy": "2024-08-03T15:37:47.666644Z",
     "iopub.status.idle": "2024-08-03T15:37:48.111455Z",
     "shell.execute_reply": "2024-08-03T15:37:48.110248Z"
    },
    "papermill": {
     "duration": 0.458215,
     "end_time": "2024-08-03T15:37:48.113919",
     "exception": false,
     "start_time": "2024-08-03T15:37:47.655704",
     "status": "completed"
    },
    "tags": []
   },
   "outputs": [
    {
     "data": {
      "text/plain": [
       "<Axes: >"
      ]
     },
     "execution_count": 12,
     "metadata": {},
     "output_type": "execute_result"
    },
    {
     "data": {
      "image/png": "[encoded data removed]",
      "text/plain": [
       "<Figure size 640x480 with 2 Axes>"
      ]
     },
     "metadata": {},
     "output_type": "display_data"
    }
   ],
   "source": [
    "sns.heatmap(test_data.isnull(),yticklabels=False,cmap=('viridis'))"
   ]
  },
  {
   "cell_type": "code",
   "execution_count": 13,
   "id": "3c359669",
   "metadata": {
    "execution": {
     "iopub.execute_input": "2024-08-03T15:37:48.135716Z",
     "iopub.status.busy": "2024-08-03T15:37:48.135315Z",
     "iopub.status.idle": "2024-08-03T15:37:48.155898Z",
     "shell.execute_reply": "2024-08-03T15:37:48.154661Z"
    },
    "papermill": {
     "duration": 0.034378,
     "end_time": "2024-08-03T15:37:48.158389",
     "exception": false,
     "start_time": "2024-08-03T15:37:48.124011",
     "status": "completed"
    },
    "tags": []
   },
   "outputs": [
    {
     "data": {
      "text/html": [
       "<div>\n",
       "<style scoped>\n",
       "    .dataframe tbody tr th:only-of-type {\n",
       "        vertical-align: middle;\n",
       "    }\n",
       "\n",
       "    .dataframe tbody tr th {\n",
       "        vertical-align: top;\n",
       "    }\n",
       "\n",
       "    .dataframe thead th {\n",
       "        text-align: right;\n",
       "    }\n",
       "</style>\n",
       "<table border=\"1\" class=\"dataframe\">\n",
       "  <thead>\n",
       "    <tr style=\"text-align: right;\">\n",
       "      <th></th>\n",
       "      <th>PassengerId</th>\n",
       "      <th>Survived</th>\n",
       "      <th>Pclass</th>\n",
       "      <th>Name</th>\n",
       "      <th>Sex</th>\n",
       "      <th>Age</th>\n",
       "      <th>SibSp</th>\n",
       "      <th>Parch</th>\n",
       "      <th>Ticket</th>\n",
       "      <th>Fare</th>\n",
       "      <th>Cabin</th>\n",
       "      <th>Embarked</th>\n",
       "    </tr>\n",
       "  </thead>\n",
       "  <tbody>\n",
       "    <tr>\n",
       "      <th>0</th>\n",
       "      <td>1</td>\n",
       "      <td>0</td>\n",
       "      <td>3</td>\n",
       "      <td>Braund, Mr. Owen Harris</td>\n",
       "      <td>male</td>\n",
       "      <td>22.0</td>\n",
       "      <td>1</td>\n",
       "      <td>0</td>\n",
       "      <td>A/5 21171</td>\n",
       "      <td>7.2500</td>\n",
       "      <td>NaN</td>\n",
       "      <td>S</td>\n",
       "    </tr>\n",
       "    <tr>\n",
       "      <th>1</th>\n",
       "      <td>2</td>\n",
       "      <td>1</td>\n",
       "      <td>1</td>\n",
       "      <td>Cumings, Mrs. John Bradley (Florence Briggs Th...</td>\n",
       "      <td>female</td>\n",
       "      <td>38.0</td>\n",
       "      <td>1</td>\n",
       "      <td>0</td>\n",
       "      <td>PC 17599</td>\n",
       "      <td>71.2833</td>\n",
       "      <td>C85</td>\n",
       "      <td>C</td>\n",
       "    </tr>\n",
       "    <tr>\n",
       "      <th>2</th>\n",
       "      <td>3</td>\n",
       "      <td>1</td>\n",
       "      <td>3</td>\n",
       "      <td>Heikkinen, Miss. Laina</td>\n",
       "      <td>female</td>\n",
       "      <td>26.0</td>\n",
       "      <td>0</td>\n",
       "      <td>0</td>\n",
       "      <td>STON/O2. 3101282</td>\n",
       "      <td>7.9250</td>\n",
       "      <td>NaN</td>\n",
       "      <td>S</td>\n",
       "    </tr>\n",
       "    <tr>\n",
       "      <th>3</th>\n",
       "      <td>4</td>\n",
       "      <td>1</td>\n",
       "      <td>1</td>\n",
       "      <td>Futrelle, Mrs. Jacques Heath (Lily May Peel)</td>\n",
       "      <td>female</td>\n",
       "      <td>35.0</td>\n",
       "      <td>1</td>\n",
       "      <td>0</td>\n",
       "      <td>113803</td>\n",
       "      <td>53.1000</td>\n",
       "      <td>C123</td>\n",
       "      <td>S</td>\n",
       "    </tr>\n",
       "    <tr>\n",
       "      <th>4</th>\n",
       "      <td>5</td>\n",
       "      <td>0</td>\n",
       "      <td>3</td>\n",
       "      <td>Allen, Mr. William Henry</td>\n",
       "      <td>male</td>\n",
       "      <td>35.0</td>\n",
       "      <td>0</td>\n",
       "      <td>0</td>\n",
       "      <td>373450</td>\n",
       "      <td>8.0500</td>\n",
       "      <td>NaN</td>\n",
       "      <td>S</td>\n",
       "    </tr>\n",
       "  </tbody>\n",
       "</table>\n",
       "</div>"
      ],
      "text/plain": [
       "   PassengerId  Survived  Pclass  \\\n",
       "0            1         0       3   \n",
       "1            2         1       1   \n",
       "2            3         1       3   \n",
       "3            4         1       1   \n",
       "4            5         0       3   \n",
       "\n",
       "                                                Name     Sex   Age  SibSp  \\\n",
       "0                            Braund, Mr. Owen Harris    male  22.0      1   \n",
       "1  Cumings, Mrs. John Bradley (Florence Briggs Th...  female  38.0      1   \n",
       "2                             Heikkinen, Miss. Laina  female  26.0      0   \n",
       "3       Futrelle, Mrs. Jacques Heath (Lily May Peel)  female  35.0      1   \n",
       "4                           Allen, Mr. William Henry    male  35.0      0   \n",
       "\n",
       "   Parch            Ticket     Fare Cabin Embarked  \n",
       "0      0         A/5 21171   7.2500   NaN        S  \n",
       "1      0          PC 17599  71.2833   C85        C  \n",
       "2      0  STON/O2. 3101282   7.9250   NaN        S  \n",
       "3      0            113803  53.1000  C123        S  \n",
       "4      0            373450   8.0500   NaN        S  "
      ]
     },
     "execution_count": 13,
     "metadata": {},
     "output_type": "execute_result"
    }
   ],
   "source": [
    "training_data.head()"
   ]
  },
  {
   "cell_type": "code",
   "execution_count": 14,
   "id": "4c29cf82",
   "metadata": {
    "execution": {
     "iopub.execute_input": "2024-08-03T15:37:48.181826Z",
     "iopub.status.busy": "2024-08-03T15:37:48.181411Z",
     "iopub.status.idle": "2024-08-03T15:37:48.194042Z",
     "shell.execute_reply": "2024-08-03T15:37:48.192913Z"
    },
    "papermill": {
     "duration": 0.027036,
     "end_time": "2024-08-03T15:37:48.196426",
     "exception": false,
     "start_time": "2024-08-03T15:37:48.169390",
     "status": "completed"
    },
    "tags": []
   },
   "outputs": [],
   "source": [
    "def preprocess(data):\n",
    "    data['Title'] = data.Name.str.extract(r' ([A-Za-z]+)\\.', expand=False)\n",
    "    #regex expression \"r' ([A-Za-z]+)\\.'\" is used here.\n",
    "    #\"r'..'\" indicates raw string literal.\n",
    "    #\"()\" captures the specific part inside them. \"[A-Za-z]+\" captures any lowercase or uppercase letters in succession.\n",
    "    #\"\\.\" backslash here is used to treat \".\" as a character instead of its meaning in a regex expression.\n",
    "    data.Title = data.Title.replace(['Lady', 'Countess','Capt', 'Col','Don', 'Dr', 'Major', \n",
    "                                     'Rev', 'Sir', 'Jonkheer', 'Dona'], 'Rare')\n",
    "    data.Title = data.Title.replace('Mlle', 'Miss')\n",
    "    data.Title = data.Title.replace('Ms', 'Miss')\n",
    "    data.Title = data.Title.replace('Mme', 'Mrs')\n",
    "    \n",
    "    encoder_title = OneHotEncoder(sparse_output=False, drop='first')\n",
    "    title_encoded = encoder_title.fit_transform(data[['Title']])\n",
    "    \n",
    "    title_encoded_df = pd.DataFrame(title_encoded, columns=encoder_title.get_feature_names_out(['Title'])).astype(int)\n",
    "    \n",
    "    data = pd.concat([data, title_encoded_df], axis=1)\n",
    "    \n",
    "    data.drop('Title', axis=1, inplace=True)\n",
    "    \n",
    "    encoder_embarked = OneHotEncoder(sparse_output=False, drop='first')\n",
    "    embarked_encoded = encoder_embarked.fit_transform(data[['Embarked']])\n",
    "    embarked_encoded_df = pd.DataFrame(embarked_encoded, columns=encoder_embarked.get_feature_names_out(['Embarked'])).astype(int)\n",
    "    data = pd.concat([data, embarked_encoded_df], axis=1)\n",
    "    \n",
    "    encoder_Sex = OneHotEncoder(sparse_output=False, drop='first')\n",
    "    Sex_encoded = encoder_Sex.fit_transform(data[['Sex']])\n",
    "    Sex_encoded_df = pd.DataFrame(Sex_encoded, columns=encoder_Sex.get_feature_names_out(['Sex'])).astype(int)\n",
    "    data = pd.concat([data, Sex_encoded_df], axis=1)\n",
    "    \n",
    "    encoder_Pclass = OneHotEncoder(sparse_output=False, drop='first')\n",
    "    Pclass_encoded = encoder_Pclass.fit_transform(data[['Pclass']])\n",
    "    Pclass_encoded_df = pd.DataFrame(Pclass_encoded, columns=encoder_Pclass.get_feature_names_out(['Pclass'])).astype(int)\n",
    "    data = pd.concat([data, Pclass_encoded_df], axis=1)\n",
    "    \n",
    "    data['Fare'] = data['Fare'].fillna(np.mean(data['Fare']))\n",
    "    \n",
    "    data.drop(['Sex', 'Pclass', 'Embarked', 'Name', 'PassengerId','Cabin','Ticket'], axis=1, inplace=True)\n",
    "    \n",
    "    return data"
   ]
  },
  {
   "cell_type": "code",
   "execution_count": 15,
   "id": "dfb325a1",
   "metadata": {
    "execution": {
     "iopub.execute_input": "2024-08-03T15:37:48.224348Z",
     "iopub.status.busy": "2024-08-03T15:37:48.223896Z",
     "iopub.status.idle": "2024-08-03T15:37:48.275820Z",
     "shell.execute_reply": "2024-08-03T15:37:48.274659Z"
    },
    "papermill": {
     "duration": 0.07168,
     "end_time": "2024-08-03T15:37:48.279688",
     "exception": false,
     "start_time": "2024-08-03T15:37:48.208008",
     "status": "completed"
    },
    "tags": []
   },
   "outputs": [],
   "source": [
    "test_data_passenger_id = test_data.PassengerId\n",
    "training_data=preprocess(training_data)\n",
    "test_data=preprocess(test_data)"
   ]
  },
  {
   "cell_type": "code",
   "execution_count": 16,
   "id": "fece507f",
   "metadata": {
    "execution": {
     "iopub.execute_input": "2024-08-03T15:37:48.305929Z",
     "iopub.status.busy": "2024-08-03T15:37:48.305136Z",
     "iopub.status.idle": "2024-08-03T15:37:48.321418Z",
     "shell.execute_reply": "2024-08-03T15:37:48.320230Z"
    },
    "papermill": {
     "duration": 0.030063,
     "end_time": "2024-08-03T15:37:48.323529",
     "exception": false,
     "start_time": "2024-08-03T15:37:48.293466",
     "status": "completed"
    },
    "tags": []
   },
   "outputs": [
    {
     "data": {
      "text/html": [
       "<div>\n",
       "<style scoped>\n",
       "    .dataframe tbody tr th:only-of-type {\n",
       "        vertical-align: middle;\n",
       "    }\n",
       "\n",
       "    .dataframe tbody tr th {\n",
       "        vertical-align: top;\n",
       "    }\n",
       "\n",
       "    .dataframe thead th {\n",
       "        text-align: right;\n",
       "    }\n",
       "</style>\n",
       "<table border=\"1\" class=\"dataframe\">\n",
       "  <thead>\n",
       "    <tr style=\"text-align: right;\">\n",
       "      <th></th>\n",
       "      <th>Survived</th>\n",
       "      <th>Age</th>\n",
       "      <th>SibSp</th>\n",
       "      <th>Parch</th>\n",
       "      <th>Fare</th>\n",
       "      <th>Title_Miss</th>\n",
       "      <th>Title_Mr</th>\n",
       "      <th>Title_Mrs</th>\n",
       "      <th>Title_Rare</th>\n",
       "      <th>Embarked_Q</th>\n",
       "      <th>Embarked_S</th>\n",
       "      <th>Sex_male</th>\n",
       "      <th>Pclass_2</th>\n",
       "      <th>Pclass_3</th>\n",
       "    </tr>\n",
       "  </thead>\n",
       "  <tbody>\n",
       "    <tr>\n",
       "      <th>0</th>\n",
       "      <td>0</td>\n",
       "      <td>22.0</td>\n",
       "      <td>1</td>\n",
       "      <td>0</td>\n",
       "      <td>7.2500</td>\n",
       "      <td>0</td>\n",
       "      <td>1</td>\n",
       "      <td>0</td>\n",
       "      <td>0</td>\n",
       "      <td>0</td>\n",
       "      <td>1</td>\n",
       "      <td>1</td>\n",
       "      <td>0</td>\n",
       "      <td>1</td>\n",
       "    </tr>\n",
       "    <tr>\n",
       "      <th>1</th>\n",
       "      <td>1</td>\n",
       "      <td>38.0</td>\n",
       "      <td>1</td>\n",
       "      <td>0</td>\n",
       "      <td>71.2833</td>\n",
       "      <td>0</td>\n",
       "      <td>0</td>\n",
       "      <td>1</td>\n",
       "      <td>0</td>\n",
       "      <td>0</td>\n",
       "      <td>0</td>\n",
       "      <td>0</td>\n",
       "      <td>0</td>\n",
       "      <td>0</td>\n",
       "    </tr>\n",
       "    <tr>\n",
       "      <th>2</th>\n",
       "      <td>1</td>\n",
       "      <td>26.0</td>\n",
       "      <td>0</td>\n",
       "      <td>0</td>\n",
       "      <td>7.9250</td>\n",
       "      <td>1</td>\n",
       "      <td>0</td>\n",
       "      <td>0</td>\n",
       "      <td>0</td>\n",
       "      <td>0</td>\n",
       "      <td>1</td>\n",
       "      <td>0</td>\n",
       "      <td>0</td>\n",
       "      <td>1</td>\n",
       "    </tr>\n",
       "    <tr>\n",
       "      <th>3</th>\n",
       "      <td>1</td>\n",
       "      <td>35.0</td>\n",
       "      <td>1</td>\n",
       "      <td>0</td>\n",
       "      <td>53.1000</td>\n",
       "      <td>0</td>\n",
       "      <td>0</td>\n",
       "      <td>1</td>\n",
       "      <td>0</td>\n",
       "      <td>0</td>\n",
       "      <td>1</td>\n",
       "      <td>0</td>\n",
       "      <td>0</td>\n",
       "      <td>0</td>\n",
       "    </tr>\n",
       "    <tr>\n",
       "      <th>4</th>\n",
       "      <td>0</td>\n",
       "      <td>35.0</td>\n",
       "      <td>0</td>\n",
       "      <td>0</td>\n",
       "      <td>8.0500</td>\n",
       "      <td>0</td>\n",
       "      <td>1</td>\n",
       "      <td>0</td>\n",
       "      <td>0</td>\n",
       "      <td>0</td>\n",
       "      <td>1</td>\n",
       "      <td>1</td>\n",
       "      <td>0</td>\n",
       "      <td>1</td>\n",
       "    </tr>\n",
       "  </tbody>\n",
       "</table>\n",
       "</div>"
      ],
      "text/plain": [
       "   Survived   Age  SibSp  Parch     Fare  Title_Miss  Title_Mr  Title_Mrs  \\\n",
       "0         0  22.0      1      0   7.2500           0         1          0   \n",
       "1         1  38.0      1      0  71.2833           0         0          1   \n",
       "2         1  26.0      0      0   7.9250           1         0          0   \n",
       "3         1  35.0      1      0  53.1000           0         0          1   \n",
       "4         0  35.0      0      0   8.0500           0         1          0   \n",
       "\n",
       "   Title_Rare  Embarked_Q  Embarked_S  Sex_male  Pclass_2  Pclass_3  \n",
       "0           0           0           1         1         0         1  \n",
       "1           0           0           0         0         0         0  \n",
       "2           0           0           1         0         0         1  \n",
       "3           0           0           1         0         0         0  \n",
       "4           0           0           1         1         0         1  "
      ]
     },
     "execution_count": 16,
     "metadata": {},
     "output_type": "execute_result"
    }
   ],
   "source": [
    "training_data.head()"
   ]
  },
  {
   "cell_type": "code",
   "execution_count": 17,
   "id": "b0739f02",
   "metadata": {
    "execution": {
     "iopub.execute_input": "2024-08-03T15:37:48.347392Z",
     "iopub.status.busy": "2024-08-03T15:37:48.346538Z",
     "iopub.status.idle": "2024-08-03T15:37:48.361088Z",
     "shell.execute_reply": "2024-08-03T15:37:48.360073Z"
    },
    "papermill": {
     "duration": 0.028692,
     "end_time": "2024-08-03T15:37:48.363269",
     "exception": false,
     "start_time": "2024-08-03T15:37:48.334577",
     "status": "completed"
    },
    "tags": []
   },
   "outputs": [
    {
     "data": {
      "text/html": [
       "<div>\n",
       "<style scoped>\n",
       "    .dataframe tbody tr th:only-of-type {\n",
       "        vertical-align: middle;\n",
       "    }\n",
       "\n",
       "    .dataframe tbody tr th {\n",
       "        vertical-align: top;\n",
       "    }\n",
       "\n",
       "    .dataframe thead th {\n",
       "        text-align: right;\n",
       "    }\n",
       "</style>\n",
       "<table border=\"1\" class=\"dataframe\">\n",
       "  <thead>\n",
       "    <tr style=\"text-align: right;\">\n",
       "      <th></th>\n",
       "      <th>Age</th>\n",
       "      <th>SibSp</th>\n",
       "      <th>Parch</th>\n",
       "      <th>Fare</th>\n",
       "      <th>Title_Miss</th>\n",
       "      <th>Title_Mr</th>\n",
       "      <th>Title_Mrs</th>\n",
       "      <th>Title_Rare</th>\n",
       "      <th>Embarked_Q</th>\n",
       "      <th>Embarked_S</th>\n",
       "      <th>Sex_male</th>\n",
       "      <th>Pclass_2</th>\n",
       "      <th>Pclass_3</th>\n",
       "    </tr>\n",
       "  </thead>\n",
       "  <tbody>\n",
       "    <tr>\n",
       "      <th>0</th>\n",
       "      <td>34.5</td>\n",
       "      <td>0</td>\n",
       "      <td>0</td>\n",
       "      <td>7.8292</td>\n",
       "      <td>0</td>\n",
       "      <td>1</td>\n",
       "      <td>0</td>\n",
       "      <td>0</td>\n",
       "      <td>1</td>\n",
       "      <td>0</td>\n",
       "      <td>1</td>\n",
       "      <td>0</td>\n",
       "      <td>1</td>\n",
       "    </tr>\n",
       "    <tr>\n",
       "      <th>1</th>\n",
       "      <td>47.0</td>\n",
       "      <td>1</td>\n",
       "      <td>0</td>\n",
       "      <td>7.0000</td>\n",
       "      <td>0</td>\n",
       "      <td>0</td>\n",
       "      <td>1</td>\n",
       "      <td>0</td>\n",
       "      <td>0</td>\n",
       "      <td>1</td>\n",
       "      <td>0</td>\n",
       "      <td>0</td>\n",
       "      <td>1</td>\n",
       "    </tr>\n",
       "    <tr>\n",
       "      <th>2</th>\n",
       "      <td>62.0</td>\n",
       "      <td>0</td>\n",
       "      <td>0</td>\n",
       "      <td>9.6875</td>\n",
       "      <td>0</td>\n",
       "      <td>1</td>\n",
       "      <td>0</td>\n",
       "      <td>0</td>\n",
       "      <td>1</td>\n",
       "      <td>0</td>\n",
       "      <td>1</td>\n",
       "      <td>1</td>\n",
       "      <td>0</td>\n",
       "    </tr>\n",
       "    <tr>\n",
       "      <th>3</th>\n",
       "      <td>27.0</td>\n",
       "      <td>0</td>\n",
       "      <td>0</td>\n",
       "      <td>8.6625</td>\n",
       "      <td>0</td>\n",
       "      <td>1</td>\n",
       "      <td>0</td>\n",
       "      <td>0</td>\n",
       "      <td>0</td>\n",
       "      <td>1</td>\n",
       "      <td>1</td>\n",
       "      <td>0</td>\n",
       "      <td>1</td>\n",
       "    </tr>\n",
       "    <tr>\n",
       "      <th>4</th>\n",
       "      <td>22.0</td>\n",
       "      <td>1</td>\n",
       "      <td>1</td>\n",
       "      <td>12.2875</td>\n",
       "      <td>0</td>\n",
       "      <td>0</td>\n",
       "      <td>1</td>\n",
       "      <td>0</td>\n",
       "      <td>0</td>\n",
       "      <td>1</td>\n",
       "      <td>0</td>\n",
       "      <td>0</td>\n",
       "      <td>1</td>\n",
       "    </tr>\n",
       "  </tbody>\n",
       "</table>\n",
       "</div>"
      ],
      "text/plain": [
       "    Age  SibSp  Parch     Fare  Title_Miss  Title_Mr  Title_Mrs  Title_Rare  \\\n",
       "0  34.5      0      0   7.8292           0         1          0           0   \n",
       "1  47.0      1      0   7.0000           0         0          1           0   \n",
       "2  62.0      0      0   9.6875           0         1          0           0   \n",
       "3  27.0      0      0   8.6625           0         1          0           0   \n",
       "4  22.0      1      1  12.2875           0         0          1           0   \n",
       "\n",
       "   Embarked_Q  Embarked_S  Sex_male  Pclass_2  Pclass_3  \n",
       "0           1           0         1         0         1  \n",
       "1           0           1         0         0         1  \n",
       "2           1           0         1         1         0  \n",
       "3           0           1         1         0         1  \n",
       "4           0           1         0         0         1  "
      ]
     },
     "execution_count": 17,
     "metadata": {},
     "output_type": "execute_result"
    }
   ],
   "source": [
    "test_data.head()"
   ]
  },
  {
   "cell_type": "code",
   "execution_count": 18,
   "id": "9dcce9c0",
   "metadata": {
    "execution": {
     "iopub.execute_input": "2024-08-03T15:37:48.387422Z",
     "iopub.status.busy": "2024-08-03T15:37:48.386940Z",
     "iopub.status.idle": "2024-08-03T15:37:48.499033Z",
     "shell.execute_reply": "2024-08-03T15:37:48.497988Z"
    },
    "papermill": {
     "duration": 0.127054,
     "end_time": "2024-08-03T15:37:48.501623",
     "exception": false,
     "start_time": "2024-08-03T15:37:48.374569",
     "status": "completed"
    },
    "tags": []
   },
   "outputs": [],
   "source": [
    "def fill_age(data):\n",
    "    median_ages = data.groupby(['Title_Miss', 'Title_Mr', 'Title_Mrs', 'Title_Rare'])['Age'].median()\n",
    "    \n",
    "    for index, row in data.iterrows():\n",
    "        if pd.isnull(row['Age']):\n",
    "            encoded_titles = (row['Title_Miss'], row['Title_Mr'], row['Title_Mrs'], row['Title_Rare'])\n",
    "            median_age = median_ages.loc[encoded_titles]\n",
    "            random_age = np.random.uniform(median_age - 2, median_age + 2)\n",
    "            data.at[index, 'Age'] = random_age    \n",
    "    return data\n",
    "\n",
    "training_data = fill_age(training_data)\n",
    "test_data = fill_age(test_data)"
   ]
  },
  {
   "cell_type": "code",
   "execution_count": 19,
   "id": "cf01d3b6",
   "metadata": {
    "execution": {
     "iopub.execute_input": "2024-08-03T15:37:48.526100Z",
     "iopub.status.busy": "2024-08-03T15:37:48.525716Z",
     "iopub.status.idle": "2024-08-03T15:37:48.540018Z",
     "shell.execute_reply": "2024-08-03T15:37:48.538974Z"
    },
    "papermill": {
     "duration": 0.029278,
     "end_time": "2024-08-03T15:37:48.542063",
     "exception": false,
     "start_time": "2024-08-03T15:37:48.512785",
     "status": "completed"
    },
    "tags": []
   },
   "outputs": [],
   "source": [
    "def add_features(data):\n",
    "    # Family Size\n",
    "    data['FamilySize'] = data['SibSp'] + data['Parch'] + 1\n",
    "    data['IsAlone'] = 1\n",
    "    data['IsAlone'].loc[data['FamilySize'] > 1] = 0\n",
    "\n",
    "    data['FarePerPerson'] = data['Fare'] / data['FamilySize']\n",
    "    data.drop('Fare', axis=1, inplace=True)\n",
    "    \n",
    "    return data\n",
    "\n",
    "training_data = add_features(training_data)\n",
    "test_data = add_features(test_data)"
   ]
  },
  {
   "cell_type": "code",
   "execution_count": 20,
   "id": "25256991",
   "metadata": {
    "execution": {
     "iopub.execute_input": "2024-08-03T15:37:48.566085Z",
     "iopub.status.busy": "2024-08-03T15:37:48.565263Z",
     "iopub.status.idle": "2024-08-03T15:37:48.571575Z",
     "shell.execute_reply": "2024-08-03T15:37:48.570445Z"
    },
    "papermill": {
     "duration": 0.020628,
     "end_time": "2024-08-03T15:37:48.573736",
     "exception": false,
     "start_time": "2024-08-03T15:37:48.553108",
     "status": "completed"
    },
    "tags": []
   },
   "outputs": [],
   "source": [
    "X = training_data.drop('Survived', axis=1)  # Features\n",
    "y = training_data['Survived']"
   ]
  },
  {
   "cell_type": "code",
   "execution_count": 21,
   "id": "e1e97408",
   "metadata": {
    "execution": {
     "iopub.execute_input": "2024-08-03T15:37:48.597480Z",
     "iopub.status.busy": "2024-08-03T15:37:48.596660Z",
     "iopub.status.idle": "2024-08-03T15:37:48.613508Z",
     "shell.execute_reply": "2024-08-03T15:37:48.612431Z"
    },
    "papermill": {
     "duration": 0.031151,
     "end_time": "2024-08-03T15:37:48.615771",
     "exception": false,
     "start_time": "2024-08-03T15:37:48.584620",
     "status": "completed"
    },
    "tags": []
   },
   "outputs": [
    {
     "data": {
      "text/html": [
       "<div>\n",
       "<style scoped>\n",
       "    .dataframe tbody tr th:only-of-type {\n",
       "        vertical-align: middle;\n",
       "    }\n",
       "\n",
       "    .dataframe tbody tr th {\n",
       "        vertical-align: top;\n",
       "    }\n",
       "\n",
       "    .dataframe thead th {\n",
       "        text-align: right;\n",
       "    }\n",
       "</style>\n",
       "<table border=\"1\" class=\"dataframe\">\n",
       "  <thead>\n",
       "    <tr style=\"text-align: right;\">\n",
       "      <th></th>\n",
       "      <th>Age</th>\n",
       "      <th>SibSp</th>\n",
       "      <th>Parch</th>\n",
       "      <th>Title_Miss</th>\n",
       "      <th>Title_Mr</th>\n",
       "      <th>Title_Mrs</th>\n",
       "      <th>Title_Rare</th>\n",
       "      <th>Embarked_Q</th>\n",
       "      <th>Embarked_S</th>\n",
       "      <th>Sex_male</th>\n",
       "      <th>Pclass_2</th>\n",
       "      <th>Pclass_3</th>\n",
       "      <th>FamilySize</th>\n",
       "      <th>IsAlone</th>\n",
       "      <th>FarePerPerson</th>\n",
       "    </tr>\n",
       "  </thead>\n",
       "  <tbody>\n",
       "    <tr>\n",
       "      <th>0</th>\n",
       "      <td>22.000000</td>\n",
       "      <td>1</td>\n",
       "      <td>0</td>\n",
       "      <td>0</td>\n",
       "      <td>1</td>\n",
       "      <td>0</td>\n",
       "      <td>0</td>\n",
       "      <td>0</td>\n",
       "      <td>1</td>\n",
       "      <td>1</td>\n",
       "      <td>0</td>\n",
       "      <td>1</td>\n",
       "      <td>2</td>\n",
       "      <td>0</td>\n",
       "      <td>3.62500</td>\n",
       "    </tr>\n",
       "    <tr>\n",
       "      <th>1</th>\n",
       "      <td>38.000000</td>\n",
       "      <td>1</td>\n",
       "      <td>0</td>\n",
       "      <td>0</td>\n",
       "      <td>0</td>\n",
       "      <td>1</td>\n",
       "      <td>0</td>\n",
       "      <td>0</td>\n",
       "      <td>0</td>\n",
       "      <td>0</td>\n",
       "      <td>0</td>\n",
       "      <td>0</td>\n",
       "      <td>2</td>\n",
       "      <td>0</td>\n",
       "      <td>35.64165</td>\n",
       "    </tr>\n",
       "    <tr>\n",
       "      <th>2</th>\n",
       "      <td>26.000000</td>\n",
       "      <td>0</td>\n",
       "      <td>0</td>\n",
       "      <td>1</td>\n",
       "      <td>0</td>\n",
       "      <td>0</td>\n",
       "      <td>0</td>\n",
       "      <td>0</td>\n",
       "      <td>1</td>\n",
       "      <td>0</td>\n",
       "      <td>0</td>\n",
       "      <td>1</td>\n",
       "      <td>1</td>\n",
       "      <td>1</td>\n",
       "      <td>7.92500</td>\n",
       "    </tr>\n",
       "    <tr>\n",
       "      <th>3</th>\n",
       "      <td>35.000000</td>\n",
       "      <td>1</td>\n",
       "      <td>0</td>\n",
       "      <td>0</td>\n",
       "      <td>0</td>\n",
       "      <td>1</td>\n",
       "      <td>0</td>\n",
       "      <td>0</td>\n",
       "      <td>1</td>\n",
       "      <td>0</td>\n",
       "      <td>0</td>\n",
       "      <td>0</td>\n",
       "      <td>2</td>\n",
       "      <td>0</td>\n",
       "      <td>26.55000</td>\n",
       "    </tr>\n",
       "    <tr>\n",
       "      <th>4</th>\n",
       "      <td>35.000000</td>\n",
       "      <td>0</td>\n",
       "      <td>0</td>\n",
       "      <td>0</td>\n",
       "      <td>1</td>\n",
       "      <td>0</td>\n",
       "      <td>0</td>\n",
       "      <td>0</td>\n",
       "      <td>1</td>\n",
       "      <td>1</td>\n",
       "      <td>0</td>\n",
       "      <td>1</td>\n",
       "      <td>1</td>\n",
       "      <td>1</td>\n",
       "      <td>8.05000</td>\n",
       "    </tr>\n",
       "    <tr>\n",
       "      <th>5</th>\n",
       "      <td>28.431869</td>\n",
       "      <td>0</td>\n",
       "      <td>0</td>\n",
       "      <td>0</td>\n",
       "      <td>1</td>\n",
       "      <td>0</td>\n",
       "      <td>0</td>\n",
       "      <td>1</td>\n",
       "      <td>0</td>\n",
       "      <td>1</td>\n",
       "      <td>0</td>\n",
       "      <td>1</td>\n",
       "      <td>1</td>\n",
       "      <td>1</td>\n",
       "      <td>8.45830</td>\n",
       "    </tr>\n",
       "    <tr>\n",
       "      <th>6</th>\n",
       "      <td>54.000000</td>\n",
       "      <td>0</td>\n",
       "      <td>0</td>\n",
       "      <td>0</td>\n",
       "      <td>1</td>\n",
       "      <td>0</td>\n",
       "      <td>0</td>\n",
       "      <td>0</td>\n",
       "      <td>1</td>\n",
       "      <td>1</td>\n",
       "      <td>0</td>\n",
       "      <td>0</td>\n",
       "      <td>1</td>\n",
       "      <td>1</td>\n",
       "      <td>51.86250</td>\n",
       "    </tr>\n",
       "    <tr>\n",
       "      <th>7</th>\n",
       "      <td>2.000000</td>\n",
       "      <td>3</td>\n",
       "      <td>1</td>\n",
       "      <td>0</td>\n",
       "      <td>0</td>\n",
       "      <td>0</td>\n",
       "      <td>0</td>\n",
       "      <td>0</td>\n",
       "      <td>1</td>\n",
       "      <td>1</td>\n",
       "      <td>0</td>\n",
       "      <td>1</td>\n",
       "      <td>5</td>\n",
       "      <td>0</td>\n",
       "      <td>4.21500</td>\n",
       "    </tr>\n",
       "    <tr>\n",
       "      <th>8</th>\n",
       "      <td>27.000000</td>\n",
       "      <td>0</td>\n",
       "      <td>2</td>\n",
       "      <td>0</td>\n",
       "      <td>0</td>\n",
       "      <td>1</td>\n",
       "      <td>0</td>\n",
       "      <td>0</td>\n",
       "      <td>1</td>\n",
       "      <td>0</td>\n",
       "      <td>0</td>\n",
       "      <td>1</td>\n",
       "      <td>3</td>\n",
       "      <td>0</td>\n",
       "      <td>3.71110</td>\n",
       "    </tr>\n",
       "    <tr>\n",
       "      <th>9</th>\n",
       "      <td>14.000000</td>\n",
       "      <td>1</td>\n",
       "      <td>0</td>\n",
       "      <td>0</td>\n",
       "      <td>0</td>\n",
       "      <td>1</td>\n",
       "      <td>0</td>\n",
       "      <td>0</td>\n",
       "      <td>0</td>\n",
       "      <td>0</td>\n",
       "      <td>1</td>\n",
       "      <td>0</td>\n",
       "      <td>2</td>\n",
       "      <td>0</td>\n",
       "      <td>15.03540</td>\n",
       "    </tr>\n",
       "  </tbody>\n",
       "</table>\n",
       "</div>"
      ],
      "text/plain": [
       "         Age  SibSp  Parch  Title_Miss  Title_Mr  Title_Mrs  Title_Rare  \\\n",
       "0  22.000000      1      0           0         1          0           0   \n",
       "1  38.000000      1      0           0         0          1           0   \n",
       "2  26.000000      0      0           1         0          0           0   \n",
       "3  35.000000      1      0           0         0          1           0   \n",
       "4  35.000000      0      0           0         1          0           0   \n",
       "5  28.431869      0      0           0         1          0           0   \n",
       "6  54.000000      0      0           0         1          0           0   \n",
       "7   2.000000      3      1           0         0          0           0   \n",
       "8  27.000000      0      2           0         0          1           0   \n",
       "9  14.000000      1      0           0         0          1           0   \n",
       "\n",
       "   Embarked_Q  Embarked_S  Sex_male  Pclass_2  Pclass_3  FamilySize  IsAlone  \\\n",
       "0           0           1         1         0         1           2        0   \n",
       "1           0           0         0         0         0           2        0   \n",
       "2           0           1         0         0         1           1        1   \n",
       "3           0           1         0         0         0           2        0   \n",
       "4           0           1         1         0         1           1        1   \n",
       "5           1           0         1         0         1           1        1   \n",
       "6           0           1         1         0         0           1        1   \n",
       "7           0           1         1         0         1           5        0   \n",
       "8           0           1         0         0         1           3        0   \n",
       "9           0           0         0         1         0           2        0   \n",
       "\n",
       "   FarePerPerson  \n",
       "0        3.62500  \n",
       "1       35.64165  \n",
       "2        7.92500  \n",
       "3       26.55000  \n",
       "4        8.05000  \n",
       "5        8.45830  \n",
       "6       51.86250  \n",
       "7        4.21500  \n",
       "8        3.71110  \n",
       "9       15.03540  "
      ]
     },
     "execution_count": 21,
     "metadata": {},
     "output_type": "execute_result"
    }
   ],
   "source": [
    "X.head(10)"
   ]
  },
  {
   "cell_type": "code",
   "execution_count": 22,
   "id": "5b94d479",
   "metadata": {
    "execution": {
     "iopub.execute_input": "2024-08-03T15:37:48.640940Z",
     "iopub.status.busy": "2024-08-03T15:37:48.640533Z",
     "iopub.status.idle": "2024-08-03T15:37:48.905669Z",
     "shell.execute_reply": "2024-08-03T15:37:48.904634Z"
    },
    "papermill": {
     "duration": 0.280675,
     "end_time": "2024-08-03T15:37:48.908219",
     "exception": false,
     "start_time": "2024-08-03T15:37:48.627544",
     "status": "completed"
    },
    "tags": []
   },
   "outputs": [],
   "source": [
    "from sklearn.model_selection import GridSearchCV\n",
    "from sklearn.metrics import accuracy_score\n",
    "from sklearn.model_selection import cross_val_score\n",
    "from sklearn.ensemble import RandomForestClassifier"
   ]
  },
  {
   "cell_type": "markdown",
   "id": "793c3d09",
   "metadata": {
    "papermill": {
     "duration": 0.010778,
     "end_time": "2024-08-03T15:37:48.930262",
     "exception": false,
     "start_time": "2024-08-03T15:37:48.919484",
     "status": "completed"
    },
    "tags": []
   },
   "source": [
    "**MODEL TRAINING**"
   ]
  },
  {
   "cell_type": "code",
   "execution_count": 23,
   "id": "d2aa7dfa",
   "metadata": {
    "execution": {
     "iopub.execute_input": "2024-08-03T15:37:48.954406Z",
     "iopub.status.busy": "2024-08-03T15:37:48.953970Z",
     "iopub.status.idle": "2024-08-03T15:38:11.608504Z",
     "shell.execute_reply": "2024-08-03T15:38:11.607261Z"
    },
    "papermill": {
     "duration": 22.669567,
     "end_time": "2024-08-03T15:38:11.611087",
     "exception": false,
     "start_time": "2024-08-03T15:37:48.941520",
     "status": "completed"
    },
    "tags": []
   },
   "outputs": [
    {
     "name": "stdout",
     "output_type": "stream",
     "text": [
      "max_depth:  5  n_estimator:  10  score: 0.8293892411022534\n",
      "max_depth:  5  n_estimator:  30  score: 0.8237775406440274\n",
      "max_depth:  5  n_estimator:  50  score: 0.827154604230745\n",
      "max_depth:  5  n_estimator:  70  score: 0.8282907538760906\n",
      "max_depth:  5  n_estimator:  90  score: 0.8305191136777352\n",
      "max_depth:  10  n_estimator:  10  score: 0.8260561170045821\n",
      "max_depth:  10  n_estimator:  30  score: 0.8305316678174629\n",
      "max_depth:  10  n_estimator:  50  score: 0.8271734354403366\n",
      "max_depth:  10  n_estimator:  70  score: 0.8215617349821104\n",
      "max_depth:  10  n_estimator:  90  score: 0.8204318624066286\n",
      "max_depth:  30  n_estimator:  10  score: 0.8069675475488042\n",
      "max_depth:  30  n_estimator:  30  score: 0.8047266336074319\n",
      "max_depth:  30  n_estimator:  50  score: 0.8036093151716779\n",
      "max_depth:  30  n_estimator:  70  score: 0.7991149331492059\n",
      "max_depth:  30  n_estimator:  90  score: 0.7968614650681062\n",
      "max_depth:  50  n_estimator:  10  score: 0.8069675475488042\n",
      "max_depth:  50  n_estimator:  30  score: 0.8047266336074319\n",
      "max_depth:  50  n_estimator:  50  score: 0.8036093151716779\n",
      "max_depth:  50  n_estimator:  70  score: 0.7991149331492059\n",
      "max_depth:  50  n_estimator:  90  score: 0.7968614650681062\n",
      "max_depth:  70  n_estimator:  10  score: 0.8069675475488042\n",
      "max_depth:  70  n_estimator:  30  score: 0.8047266336074319\n",
      "max_depth:  70  n_estimator:  50  score: 0.8036093151716779\n",
      "max_depth:  70  n_estimator:  70  score: 0.7991149331492059\n",
      "max_depth:  70  n_estimator:  90  score: 0.7968614650681062\n",
      "max_depth:  90  n_estimator:  10  score: 0.8069675475488042\n",
      "max_depth:  90  n_estimator:  30  score: 0.8047266336074319\n",
      "max_depth:  90  n_estimator:  50  score: 0.8036093151716779\n",
      "max_depth:  90  n_estimator:  70  score: 0.7991149331492059\n",
      "max_depth:  90  n_estimator:  90  score: 0.7968614650681062\n",
      "max_depth:  120  n_estimator:  10  score: 0.8069675475488042\n",
      "max_depth:  120  n_estimator:  30  score: 0.8047266336074319\n",
      "max_depth:  120  n_estimator:  50  score: 0.8036093151716779\n",
      "max_depth:  120  n_estimator:  70  score: 0.7991149331492059\n",
      "max_depth:  120  n_estimator:  90  score: 0.7968614650681062\n",
      "max_depth:  150  n_estimator:  10  score: 0.8069675475488042\n",
      "max_depth:  150  n_estimator:  30  score: 0.8047266336074319\n",
      "max_depth:  150  n_estimator:  50  score: 0.8036093151716779\n",
      "max_depth:  150  n_estimator:  70  score: 0.7991149331492059\n",
      "max_depth:  150  n_estimator:  90  score: 0.7968614650681062\n"
     ]
    }
   ],
   "source": [
    "for max_depth in (5,10,30,50,70,90,120):\n",
    "    for n_estimator in (10,30,50,70,90):\n",
    "        model= RandomForestClassifier(max_depth=max_depth,random_state=1,n_estimators=n_estimator)\n",
    "        scores= cross_val_score(model,X,y,cv=5,scoring='accuracy')\n",
    "        print(\"max_depth: \",max_depth,\" n_estimator: \",n_estimator,\" score:\",scores.mean())"
   ]
  },
  {
   "cell_type": "code",
   "execution_count": 24,
   "id": "1ca617ac",
   "metadata": {
    "execution": {
     "iopub.execute_input": "2024-08-03T15:38:11.641520Z",
     "iopub.status.busy": "2024-08-03T15:38:11.640324Z",
     "iopub.status.idle": "2024-08-03T15:38:11.647905Z",
     "shell.execute_reply": "2024-08-03T15:38:11.646761Z"
    },
    "papermill": {
     "duration": 0.024512,
     "end_time": "2024-08-03T15:38:11.650048",
     "exception": false,
     "start_time": "2024-08-03T15:38:11.625536",
     "status": "completed"
    },
    "tags": []
   },
   "outputs": [
    {
     "data": {
      "text/plain": [
       "\"param = [{'max_depth':list(range(2,30)),'n_estimators':list(range(10,90))}]\\nclf = GridSearchCV(RandomForestClassifier(),param,cv=5,scoring='accuracy',verbose=True, n_jobs=-1) \\nclf.fit(X,y) \\nprint(clf.best_params_)\\nprint(clf.best_score_)\""
      ]
     },
     "execution_count": 24,
     "metadata": {},
     "output_type": "execute_result"
    }
   ],
   "source": [
    "param = [{'max_depth':list(range(2,30)),'n_estimators':list(range(10,90))}]\n",
    "clf = GridSearchCV(RandomForestClassifier(),param,cv=5,scoring='accuracy',verbose=True, n_jobs=-1) \n",
    "clf.fit(X,y) \n",
    "print(clf.best_params_)\n",
    "print(clf.best_score_)"
   ]
  },
  {
   "cell_type": "code",
   "execution_count": 25,
   "id": "9c0cf425",
   "metadata": {
    "execution": {
     "iopub.execute_input": "2024-08-03T15:38:11.678901Z",
     "iopub.status.busy": "2024-08-03T15:38:11.678364Z",
     "iopub.status.idle": "2024-08-03T15:38:11.814886Z",
     "shell.execute_reply": "2024-08-03T15:38:11.813731Z"
    },
    "papermill": {
     "duration": 0.15379,
     "end_time": "2024-08-03T15:38:11.817431",
     "exception": false,
     "start_time": "2024-08-03T15:38:11.663641",
     "status": "completed"
    },
    "tags": []
   },
   "outputs": [],
   "source": [
    "model = RandomForestClassifier(max_depth=best_params_[max_depth],random_state=1,n_estimators=best_params_[n_estimators])\n",
    "#model = RandomForestClassifier(max_depth=5,random_state=1,n_estimators=62)\n",
    "model.fit(X,y)\n",
    "result = model.predict(test_data)\n",
    "output = pd.DataFrame({'PassengerId': test_data_passenger_id, 'Survived': result})\n",
    "output.to_csv('submission.csv', index=False)"
   ]
  }
 ],
 "metadata": {
  "kaggle": {
   "accelerator": "none",
   "dataSources": [
    {
     "databundleVersionId": 26502,
     "sourceId": 3136,
     "sourceType": "competition"
    }
   ],
   "dockerImageVersionId": 30732,
   "isGpuEnabled": false,
   "isInternetEnabled": false,
   "language": "python",
   "sourceType": "notebook"
  },
  "kernelspec": {
   "display_name": "Python 3",
   "language": "python",
   "name": "python3"
  },
  "language_info": {
   "codemirror_mode": {
    "name": "ipython",
    "version": 3
   },
   "file_extension": ".py",
   "mimetype": "text/x-python",
   "name": "python",
   "nbconvert_exporter": "python",
   "pygments_lexer": "ipython3",
   "version": "3.10.13"
  },
  "papermill": {
   "default_parameters": {},
   "duration": 33.682373,
   "end_time": "2024-08-03T15:38:12.553162",
   "environment_variables": {},
   "exception": null,
   "input_path": "__notebook__.ipynb",
   "output_path": "__notebook__.ipynb",
   "parameters": {},
   "start_time": "2024-08-03T15:37:38.870789",
   "version": "2.5.0"
  }
 },
 "nbformat": 4,
 "nbformat_minor": 5
}
